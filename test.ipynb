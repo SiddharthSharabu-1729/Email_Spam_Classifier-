{
 "cells": [
  {
   "cell_type": "code",
   "execution_count": 2,
   "id": "998e038a",
   "metadata": {},
   "outputs": [],
   "source": [
    "import tensorflow as tf\n",
    "gpus = tf.config.experimental.list_physical_devices('GPU')\n",
    "if gpus:\n",
    "    tf.config.experimental.set_memory_growth(gpus[0], enable=True)\n",
    "%run Utilities.ipynb import get_model, int2label\n",
    "from keras.preprocessing.sequence import pad_sequences\n",
    "import pickle\n",
    "import numpy as np"
   ]
  },
  {
   "cell_type": "code",
   "execution_count": 3,
   "id": "37599a64",
   "metadata": {},
   "outputs": [],
   "source": [
    "SEQUENCE_LENGTH = 100"
   ]
  },
  {
   "cell_type": "code",
   "execution_count": 4,
   "id": "5e925829",
   "metadata": {},
   "outputs": [],
   "source": [
    "tokenizer = pickle.load(open(\"results/tokenizer.pickle\", \"rb\"))"
   ]
  },
  {
   "cell_type": "code",
   "execution_count": 5,
   "id": "4010b8e7",
   "metadata": {},
   "outputs": [
    {
     "name": "stderr",
     "output_type": "stream",
     "text": [
      "Reading GloVe: 400000it [00:24, 16005.16it/s]\n"
     ]
    },
    {
     "name": "stdout",
     "output_type": "stream",
     "text": [
      "Model: \"sequential\"\n",
      "_________________________________________________________________\n",
      " Layer (type)                Output Shape              Param #   \n",
      "=================================================================\n",
      " embedding (Embedding)       (None, 100, 100)          901300    \n",
      "                                                                 \n",
      " lstm (LSTM)                 (None, 128)               117248    \n",
      "                                                                 \n",
      " dropout (Dropout)           (None, 128)               0         \n",
      "                                                                 \n",
      " dense (Dense)               (None, 2)                 258       \n",
      "                                                                 \n",
      "=================================================================\n",
      "Total params: 1,018,806\n",
      "Trainable params: 117,506\n",
      "Non-trainable params: 901,300\n",
      "_________________________________________________________________\n"
     ]
    }
   ],
   "source": [
    "model = get_model(tokenizer, 128)"
   ]
  },
  {
   "cell_type": "code",
   "execution_count": 6,
   "id": "ffdb060c",
   "metadata": {},
   "outputs": [],
   "source": [
    "model.load_weights(\"results/spam_classifier_0.06.h5\")"
   ]
  },
  {
   "cell_type": "code",
   "execution_count": 7,
   "id": "e5f9f287",
   "metadata": {},
   "outputs": [],
   "source": [
    "def get_predictions(text):\n",
    "    sequence = tokenizer.texts_to_sequences([text])\n",
    "    # pad the sequence\n",
    "    sequence = pad_sequences(sequence, maxlen=SEQUENCE_LENGTH)\n",
    "    # get the prediction\n",
    "    prediction = model.predict(sequence)[0]\n",
    "    # one-hot encoded vector, revert using np.argmax\n",
    "    return int2label[np.argmax(prediction)]"
   ]
  }
 ],
 "metadata": {
  "kernelspec": {
   "display_name": "Python 3 (ipykernel)",
   "language": "python",
   "name": "python3"
  },
  "language_info": {
   "codemirror_mode": {
    "name": "ipython",
    "version": 3
   },
   "file_extension": ".py",
   "mimetype": "text/x-python",
   "name": "python",
   "nbconvert_exporter": "python",
   "pygments_lexer": "ipython3",
   "version": "3.9.7"
  }
 },
 "nbformat": 4,
 "nbformat_minor": 5
}
