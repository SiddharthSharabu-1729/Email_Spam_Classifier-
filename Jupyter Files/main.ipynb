{
 "cells": [
  {
   "cell_type": "code",
   "execution_count": 2,
   "id": "c31fff7d",
   "metadata": {},
   "outputs": [],
   "source": [
    "from multiprocessing import AuthenticationError\n",
    "import imaplib\n",
    "import email\n",
    "import test\n",
    "import os\n",
    "%run Utilities.ipynb import load"
   ]
  },
  {
   "cell_type": "code",
   "execution_count": 3,
   "id": "bd49e7fa",
   "metadata": {},
   "outputs": [],
   "source": [
    "__author__ = \"Siddharth Achari Sharabu\""
   ]
  },
  {
   "cell_type": "code",
   "execution_count": 4,
   "id": "8e6ef742",
   "metadata": {},
   "outputs": [
    {
     "name": "stdout",
     "output_type": "stream",
     "text": [
      "\n",
      "\n",
      "If You Dont Know your AppPassword and Dont Know how to set it click on the link here\n",
      "https://support.google.com/accounts/answer/185833?hl=en\n",
      "\n",
      "\n"
     ]
    }
   ],
   "source": [
    "print(\"\\n\")\n",
    "print(\"If You Dont Know your AppPassword and Dont Know how to set it click on the link here\\nhttps://support.google.com/accounts/answer/185833?hl=en\")\n",
    "print(\"\\n\")"
   ]
  },
  {
   "cell_type": "code",
   "execution_count": null,
   "id": "e3f9203e",
   "metadata": {},
   "outputs": [],
   "source": [
    "username = input(\"Enter the GmailAddress:\\t\")\n",
    "password = input('Enter the App password of your Gmail Address :\\t')\n",
    "imap = imaplib.IMAP4_SSL(\"imap.gmail.com\")"
   ]
  },
  {
   "cell_type": "code",
   "execution_count": null,
   "id": "73e552e5",
   "metadata": {},
   "outputs": [],
   "source": [
    "try :\n",
    "   result = imap.login(username, password)\n",
    "   select = int(input(\"Enter which Messages to select\\n1.Inbox \\n2.Unseen\\nSelect any Option :\\t\"))\n",
    "   num = int(input(\"Enter the Number of Messages to Classify\\n\"))\n",
    "   os.mkdir(\"Output\")\n",
    "   if select == 1 :\n",
    "      response, messages = imap.select('Inbox')\n",
    "      messages = messages[0].split()\n",
    "      f=open(\"Output/Inboxmails.txt\",'w+')\n",
    "      for i in range(1,num+1):\n",
    "         res, msg = imap.fetch(str(i), \"(RFC822)\")         \n",
    "         for response in msg :\n",
    "            if isinstance(response, tuple):\n",
    "               msg = email.message_from_bytes(response[1])\n",
    "               classify = test.get_predictions(msg[\"Subject\"])\n",
    "               f.write(\"\\n\")\n",
    "               f.write(\"From :\\t\"+str(msg[\"From\"]))\n",
    "               f.write(\"\\n\")\n",
    "               f.write(\"Date :\\t\"+str(msg[\"date\"]))\n",
    "               f.write(\"\\n\")\n",
    "               f.write(\"Sub :\\t\"+str(msg['Subject']))\n",
    "               f.write(\"\\n\")\n",
    "               f.write(\"Classification :\\t\"+str(classify))\n",
    "               f.write(\"\\n\")\n",
    "               f.write(\"**********************************************************\")\n",
    "               f.write(\"\\n\")\n",
    "      load()\n",
    "\n",
    "   elif select == 2 :\n",
    "      imap.select('\"[Gmail]/All Mail\"', readonly = True)\n",
    "      response, messages = imap.search(None,'Unseen')\n",
    "      messages = messages[0].split()\n",
    "      latest = int(messages[-1])\n",
    "      oldest = int(messages[0])\n",
    "      f =open(\"Output/Unseenmails.txt\",'w+')\n",
    "      for i in range(latest, latest-num, -1):\n",
    "         res, msg = imap.fetch(str(i), \"(RFC822)\")         \n",
    "         for response in msg :\n",
    "            if isinstance(response, tuple):\n",
    "               msg = email.message_from_bytes(response[1])\n",
    "               classify = test.get_predictions(msg[\"Subject\"])\n",
    "               f.write(\"\\n\")\n",
    "               f.write(\"From :\\t\"+str(msg[\"From\"]))\n",
    "               f.write(\"\\n\")\n",
    "               f.write(\"Date :\\t\"+str(msg[\"date\"]))\n",
    "               f.write(\"\\n\")\n",
    "               f.write(\"Sub :\\t\"+str(msg['Subject']))\n",
    "               f.write(\"\\n\")\n",
    "               f.write(\"Classification :\\t\"+str(classify))\n",
    "               f.write(\"\\n\")\n",
    "               f.write(\"*********************************************************\")\n",
    "               f.write(\"\\n\")\n",
    "      load()\n",
    "   else :\n",
    "      print(\"please Select Valid Option\")\n",
    "except :\n",
    "   AuthenticationError"
   ]
  }
 ],
 "metadata": {
  "kernelspec": {
   "display_name": "Python 3 (ipykernel)",
   "language": "python",
   "name": "python3"
  },
  "language_info": {
   "codemirror_mode": {
    "name": "ipython",
    "version": 3
   },
   "file_extension": ".py",
   "mimetype": "text/x-python",
   "name": "python",
   "nbconvert_exporter": "python",
   "pygments_lexer": "ipython3",
   "version": "3.9.7"
  }
 },
 "nbformat": 4,
 "nbformat_minor": 5
}
